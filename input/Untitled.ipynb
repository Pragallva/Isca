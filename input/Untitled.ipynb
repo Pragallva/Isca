{
 "cells": [
  {
   "cell_type": "code",
   "execution_count": 1,
   "metadata": {},
   "outputs": [],
   "source": [
    "import numpy as np\n",
    "import netCDF4 as nc"
   ]
  },
  {
   "cell_type": "code",
   "execution_count": 10,
   "metadata": {},
   "outputs": [
    {
     "data": {
      "text/plain": [
       "u'/project/tas1/pragallva/Fall_quarter_2017/Isca/input'"
      ]
     },
     "execution_count": 10,
     "metadata": {},
     "output_type": "execute_result"
    }
   ],
   "source": [
    "pwd"
   ]
  },
  {
   "cell_type": "code",
   "execution_count": 3,
   "metadata": {},
   "outputs": [],
   "source": [
    "ocean=nc.Dataset('ocean_qflux.nc','r')"
   ]
  },
  {
   "cell_type": "code",
   "execution_count": 11,
   "metadata": {},
   "outputs": [
    {
     "data": {
      "text/plain": [
       "OrderedDict([(u'lat', <type 'netCDF4._netCDF4.Variable'>\n",
       "              float64 lat(lat)\n",
       "                  units: degrees_N\n",
       "                  cartesian_axis: Y\n",
       "                  edges: latb\n",
       "                  long_name: latitude\n",
       "              unlimited dimensions: \n",
       "              current shape = (64,)\n",
       "              filling off), (u'lon', <type 'netCDF4._netCDF4.Variable'>\n",
       "              float64 lon(lon)\n",
       "                  units: degrees_E\n",
       "                  cartesian_axis: X\n",
       "                  edges: lonb\n",
       "                  long_name: longitude\n",
       "              unlimited dimensions: \n",
       "              current shape = (128,)\n",
       "              filling off), (u'latb', <type 'netCDF4._netCDF4.Variable'>\n",
       "              float64 latb(latb)\n",
       "                  units: degrees_N\n",
       "                  cartesian_axis: Y\n",
       "                  long_name: latitude edges\n",
       "              unlimited dimensions: \n",
       "              current shape = (65,)\n",
       "              filling off), (u'lonb', <type 'netCDF4._netCDF4.Variable'>\n",
       "              float64 lonb(lonb)\n",
       "                  units: degrees_E\n",
       "                  cartesian_axis: X\n",
       "                  long_name: longitude edges\n",
       "              unlimited dimensions: \n",
       "              current shape = (129,)\n",
       "              filling off), (u'time', <type 'netCDF4._netCDF4.Variable'>\n",
       "              float64 time(time)\n",
       "                  units: days since 0000-01-01 00:00:00.0\n",
       "                  calendar: THIRTY_DAY_MONTHS\n",
       "                  calendar_type: THIRTY_DAY_MONTHS\n",
       "                  cartesian_axis: T\n",
       "              unlimited dimensions: time\n",
       "              current shape = (12,)\n",
       "              filling off), (u'ocean_qflux', <type 'netCDF4._netCDF4.Variable'>\n",
       "              float32 ocean_qflux(time, lat, lon)\n",
       "              unlimited dimensions: time\n",
       "              current shape = (12, 64, 128)\n",
       "              filling off), (u'ocean_zeroqflux',\n",
       "              <type 'netCDF4._netCDF4.Variable'>\n",
       "              float32 ocean_zeroqflux(time, lat, lon)\n",
       "              unlimited dimensions: time\n",
       "              current shape = (12, 64, 128)\n",
       "              filling off), (u'ocean_zonalqflux',\n",
       "              <type 'netCDF4._netCDF4.Variable'>\n",
       "              float32 ocean_zonalqflux(time, lat, lon)\n",
       "              unlimited dimensions: time\n",
       "              current shape = (12, 64, 128)\n",
       "              filling off), (u'tracmip_qflux',\n",
       "              <type 'netCDF4._netCDF4.Variable'>\n",
       "              float32 tracmip_qflux(lat, lon)\n",
       "              unlimited dimensions: \n",
       "              current shape = (64, 128)\n",
       "              filling off), (u'zonal_tracmip_qflux',\n",
       "              <type 'netCDF4._netCDF4.Variable'>\n",
       "              float32 zonal_tracmip_qflux(lat, lon)\n",
       "              unlimited dimensions: \n",
       "              current shape = (64, 128)\n",
       "              filling off), (u'tracmip_qflux_new',\n",
       "              <type 'netCDF4._netCDF4.Variable'>\n",
       "              float32 tracmip_qflux_new(time, lat, lon)\n",
       "              unlimited dimensions: time\n",
       "              current shape = (12, 64, 128)\n",
       "              filling off)])"
      ]
     },
     "execution_count": 11,
     "metadata": {},
     "output_type": "execute_result"
    }
   ],
   "source": [
    "ocean.variables"
   ]
  },
  {
   "cell_type": "code",
   "execution_count": 13,
   "metadata": {},
   "outputs": [
    {
     "data": {
      "text/plain": [
       "u'days since 0000-01-01 00:00:00.0'"
      ]
     },
     "execution_count": 13,
     "metadata": {},
     "output_type": "execute_result"
    }
   ],
   "source": [
    "ocean.variables['time'].units"
   ]
  },
  {
   "cell_type": "code",
   "execution_count": null,
   "metadata": {},
   "outputs": [],
   "source": []
  }
 ],
 "metadata": {
  "kernelspec": {
   "display_name": "Python 2",
   "language": "python",
   "name": "python2"
  },
  "language_info": {
   "codemirror_mode": {
    "name": "ipython",
    "version": 2
   },
   "file_extension": ".py",
   "mimetype": "text/x-python",
   "name": "python",
   "nbconvert_exporter": "python",
   "pygments_lexer": "ipython2",
   "version": "2.7.11"
  }
 },
 "nbformat": 4,
 "nbformat_minor": 2
}
